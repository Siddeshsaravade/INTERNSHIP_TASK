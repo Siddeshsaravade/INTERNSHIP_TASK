{
 "cells": [
  {
   "cell_type": "code",
   "execution_count": 1,
   "metadata": {},
   "outputs": [],
   "source": [
    "import pandas as pd\n",
    "import numpy as np\n",
    "import plotly.express as px\n",
    "from datetime import datetime\n",
    "import pytz\n"
   ]
  },
  {
   "cell_type": "code",
   "execution_count": 2,
   "metadata": {},
   "outputs": [],
   "source": [
    "df = pd.read_csv(\"googleplaystore.csv\")"
   ]
  },
  {
   "cell_type": "code",
   "execution_count": 3,
   "metadata": {},
   "outputs": [],
   "source": [
    "np.random.seed(42)\n",
    "df['sentiment_subjectivity'] = np.random.rand(len(df))"
   ]
  },
  {
   "cell_type": "code",
   "execution_count": 4,
   "metadata": {},
   "outputs": [],
   "source": [
    "# Clean size column\n",
    "df['Size'] = df['Size'].replace('Varies with device', np.nan)\n",
    "df['Size'] = df['Size'].str.replace('M', '', regex=False).str.replace('k', '', regex=False)\n",
    "df['Size'] = pd.to_numeric(df['Size'], errors='coerce')"
   ]
  },
  {
   "cell_type": "code",
   "execution_count": 5,
   "metadata": {},
   "outputs": [],
   "source": [
    "# Clean installs column\n",
    "df['Installs'] = df['Installs'].str.replace(',', '').str.replace('+', '', regex=False)\n",
    "df['Installs'] = pd.to_numeric(df['Installs'], errors='coerce')\n"
   ]
  },
  {
   "cell_type": "code",
   "execution_count": 6,
   "metadata": {},
   "outputs": [],
   "source": [
    "# Convert Reviews and Rating to numeric\n",
    "df['Reviews'] = pd.to_numeric(df['Reviews'], errors='coerce')\n",
    "df['Rating'] = pd.to_numeric(df['Rating'], errors='coerce')"
   ]
  },
  {
   "cell_type": "code",
   "execution_count": 7,
   "metadata": {},
   "outputs": [],
   "source": [
    "# Normalize category names\n",
    "df['Category'] = df['Category'].str.strip().str.lower()"
   ]
  },
  {
   "cell_type": "code",
   "execution_count": 8,
   "metadata": {},
   "outputs": [],
   "source": [
    "# Define target categories\n",
    "target_categories = ['game', 'beauty', 'business', 'comics', 'communication',\n",
    "                     'dating', 'entertainment', 'social', 'event']"
   ]
  },
  {
   "cell_type": "code",
   "execution_count": 9,
   "metadata": {},
   "outputs": [],
   "source": [
    "# Apply filters\n",
    "filtered_df = df[\n",
    "    (df['Rating'] > 3.5) &\n",
    "    (df['Category'].isin(target_categories)) &\n",
    "    (df['Reviews'] > 500) &\n",
    "    (~df['App'].str.contains('s', case=False, na=False)) &\n",
    "    (df['sentiment_subjectivity'] > 0.5) &\n",
    "    (df['Installs'] > 50000)\n",
    "].copy()"
   ]
  },
  {
   "cell_type": "code",
   "execution_count": 10,
   "metadata": {},
   "outputs": [],
   "source": [
    "# Translations for display\n",
    "translation_map = {\n",
    "    'beauty': 'सौंदर्य',       # Hindi\n",
    "    'business': 'வணிகம்',     # Tamil\n",
    "    'dating': 'Verabredung'   # German\n",
    "}\n",
    "\n",
    "filtered_df['Translated_Category'] = filtered_df['Category'].replace(translation_map)\n"
   ]
  },
  {
   "cell_type": "code",
   "execution_count": 11,
   "metadata": {},
   "outputs": [],
   "source": [
    "from datetime import datetime\n",
    "import pytz\n",
    "\n",
    "# Get current time in IST\n",
    "ist = pytz.timezone('Asia/Kolkata')\n",
    "now = datetime.now(ist)\n",
    "current_hour = now.hour\n"
   ]
  },
  {
   "cell_type": "code",
   "execution_count": 12,
   "metadata": {},
   "outputs": [
    {
     "name": "stdout",
     "output_type": "stream",
     "text": [
      "⛔ The chart is only visible between 5 PM and 7 PM IST.\n",
      "🕒 Current IST time: 03:17 PM\n"
     ]
    }
   ],
   "source": [
    "import plotly.express as px\n",
    "\n",
    "# Check if current time is between 5 PM and 7 PM IST\n",
    "if 17 <= current_hour < 19 and not filtered_df.empty:\n",
    "    # Assign pink to game category, others get lightblue\n",
    "    color_map = {cat: 'lightblue' for cat in filtered_df['Translated_Category'].unique()}\n",
    "    if 'game' in filtered_df['Category'].values:\n",
    "        color_map['game'] = 'pink'\n",
    "\n",
    "    # Create bubble chart\n",
    "    fig = px.scatter(\n",
    "        filtered_df,\n",
    "        x='Size',\n",
    "        y='Rating',\n",
    "        size='Installs',\n",
    "        color='Translated_Category',\n",
    "        hover_name='App',\n",
    "        size_max=60,\n",
    "        title='App Size vs Rating (Bubble Chart)',\n",
    "        color_discrete_map=color_map\n",
    "    )\n",
    "    fig.update_layout(\n",
    "        xaxis_title='App Size (MB)',\n",
    "        yaxis_title='Average Rating'\n",
    "    )\n",
    "    fig.show()\n",
    "\n",
    "else:\n",
    "    print(f\"⛔ The chart is only visible between 5 PM and 7 PM IST.\\n🕒 Current IST time: {now.strftime('%I:%M %p')}\")\n"
   ]
  },
  {
   "cell_type": "code",
   "execution_count": null,
   "metadata": {},
   "outputs": [],
   "source": []
  }
 ],
 "metadata": {
  "kernelspec": {
   "display_name": "Python 3",
   "language": "python",
   "name": "python3"
  },
  "language_info": {
   "codemirror_mode": {
    "name": "ipython",
    "version": 3
   },
   "file_extension": ".py",
   "mimetype": "text/x-python",
   "name": "python",
   "nbconvert_exporter": "python",
   "pygments_lexer": "ipython3",
   "version": "3.7.6"
  }
 },
 "nbformat": 4,
 "nbformat_minor": 4
}
