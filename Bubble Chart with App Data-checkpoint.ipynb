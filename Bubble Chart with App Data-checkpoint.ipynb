{
 "cells": [
  {
   "cell_type": "code",
   "execution_count": 1,
   "metadata": {},
   "outputs": [],
   "source": [
    "import pandas as pd\n",
    "import matplotlib.pyplot as plt\n",
    "import seaborn as sns\n",
    "from datetime import datetime\n",
    "import pytz\n"
   ]
  },
  {
   "cell_type": "code",
   "execution_count": 2,
   "metadata": {},
   "outputs": [
    {
     "ename": "FileNotFoundError",
     "evalue": "[Errno 2] File app.csv does not exist: 'app.csv'",
     "output_type": "error",
     "traceback": [
      "\u001b[1;31m---------------------------------------------------------------------------\u001b[0m",
      "\u001b[1;31mFileNotFoundError\u001b[0m                         Traceback (most recent call last)",
      "\u001b[1;32m<ipython-input-2-ff8d205ef66b>\u001b[0m in \u001b[0;36m<module>\u001b[1;34m\u001b[0m\n\u001b[1;32m----> 1\u001b[1;33m \u001b[0mdf\u001b[0m \u001b[1;33m=\u001b[0m \u001b[0mpd\u001b[0m\u001b[1;33m.\u001b[0m\u001b[0mread_csv\u001b[0m\u001b[1;33m(\u001b[0m\u001b[1;34m\"app.csv\"\u001b[0m\u001b[1;33m)\u001b[0m\u001b[1;33m\u001b[0m\u001b[1;33m\u001b[0m\u001b[0m\n\u001b[0m",
      "\u001b[1;32mC:\\ProgramData\\Anaconda3\\lib\\site-packages\\pandas\\io\\parsers.py\u001b[0m in \u001b[0;36mparser_f\u001b[1;34m(filepath_or_buffer, sep, delimiter, header, names, index_col, usecols, squeeze, prefix, mangle_dupe_cols, dtype, engine, converters, true_values, false_values, skipinitialspace, skiprows, skipfooter, nrows, na_values, keep_default_na, na_filter, verbose, skip_blank_lines, parse_dates, infer_datetime_format, keep_date_col, date_parser, dayfirst, cache_dates, iterator, chunksize, compression, thousands, decimal, lineterminator, quotechar, quoting, doublequote, escapechar, comment, encoding, dialect, error_bad_lines, warn_bad_lines, delim_whitespace, low_memory, memory_map, float_precision)\u001b[0m\n\u001b[0;32m    674\u001b[0m         )\n\u001b[0;32m    675\u001b[0m \u001b[1;33m\u001b[0m\u001b[0m\n\u001b[1;32m--> 676\u001b[1;33m         \u001b[1;32mreturn\u001b[0m \u001b[0m_read\u001b[0m\u001b[1;33m(\u001b[0m\u001b[0mfilepath_or_buffer\u001b[0m\u001b[1;33m,\u001b[0m \u001b[0mkwds\u001b[0m\u001b[1;33m)\u001b[0m\u001b[1;33m\u001b[0m\u001b[1;33m\u001b[0m\u001b[0m\n\u001b[0m\u001b[0;32m    677\u001b[0m \u001b[1;33m\u001b[0m\u001b[0m\n\u001b[0;32m    678\u001b[0m     \u001b[0mparser_f\u001b[0m\u001b[1;33m.\u001b[0m\u001b[0m__name__\u001b[0m \u001b[1;33m=\u001b[0m \u001b[0mname\u001b[0m\u001b[1;33m\u001b[0m\u001b[1;33m\u001b[0m\u001b[0m\n",
      "\u001b[1;32mC:\\ProgramData\\Anaconda3\\lib\\site-packages\\pandas\\io\\parsers.py\u001b[0m in \u001b[0;36m_read\u001b[1;34m(filepath_or_buffer, kwds)\u001b[0m\n\u001b[0;32m    446\u001b[0m \u001b[1;33m\u001b[0m\u001b[0m\n\u001b[0;32m    447\u001b[0m     \u001b[1;31m# Create the parser.\u001b[0m\u001b[1;33m\u001b[0m\u001b[1;33m\u001b[0m\u001b[1;33m\u001b[0m\u001b[0m\n\u001b[1;32m--> 448\u001b[1;33m     \u001b[0mparser\u001b[0m \u001b[1;33m=\u001b[0m \u001b[0mTextFileReader\u001b[0m\u001b[1;33m(\u001b[0m\u001b[0mfp_or_buf\u001b[0m\u001b[1;33m,\u001b[0m \u001b[1;33m**\u001b[0m\u001b[0mkwds\u001b[0m\u001b[1;33m)\u001b[0m\u001b[1;33m\u001b[0m\u001b[1;33m\u001b[0m\u001b[0m\n\u001b[0m\u001b[0;32m    449\u001b[0m \u001b[1;33m\u001b[0m\u001b[0m\n\u001b[0;32m    450\u001b[0m     \u001b[1;32mif\u001b[0m \u001b[0mchunksize\u001b[0m \u001b[1;32mor\u001b[0m \u001b[0miterator\u001b[0m\u001b[1;33m:\u001b[0m\u001b[1;33m\u001b[0m\u001b[1;33m\u001b[0m\u001b[0m\n",
      "\u001b[1;32mC:\\ProgramData\\Anaconda3\\lib\\site-packages\\pandas\\io\\parsers.py\u001b[0m in \u001b[0;36m__init__\u001b[1;34m(self, f, engine, **kwds)\u001b[0m\n\u001b[0;32m    878\u001b[0m             \u001b[0mself\u001b[0m\u001b[1;33m.\u001b[0m\u001b[0moptions\u001b[0m\u001b[1;33m[\u001b[0m\u001b[1;34m\"has_index_names\"\u001b[0m\u001b[1;33m]\u001b[0m \u001b[1;33m=\u001b[0m \u001b[0mkwds\u001b[0m\u001b[1;33m[\u001b[0m\u001b[1;34m\"has_index_names\"\u001b[0m\u001b[1;33m]\u001b[0m\u001b[1;33m\u001b[0m\u001b[1;33m\u001b[0m\u001b[0m\n\u001b[0;32m    879\u001b[0m \u001b[1;33m\u001b[0m\u001b[0m\n\u001b[1;32m--> 880\u001b[1;33m         \u001b[0mself\u001b[0m\u001b[1;33m.\u001b[0m\u001b[0m_make_engine\u001b[0m\u001b[1;33m(\u001b[0m\u001b[0mself\u001b[0m\u001b[1;33m.\u001b[0m\u001b[0mengine\u001b[0m\u001b[1;33m)\u001b[0m\u001b[1;33m\u001b[0m\u001b[1;33m\u001b[0m\u001b[0m\n\u001b[0m\u001b[0;32m    881\u001b[0m \u001b[1;33m\u001b[0m\u001b[0m\n\u001b[0;32m    882\u001b[0m     \u001b[1;32mdef\u001b[0m \u001b[0mclose\u001b[0m\u001b[1;33m(\u001b[0m\u001b[0mself\u001b[0m\u001b[1;33m)\u001b[0m\u001b[1;33m:\u001b[0m\u001b[1;33m\u001b[0m\u001b[1;33m\u001b[0m\u001b[0m\n",
      "\u001b[1;32mC:\\ProgramData\\Anaconda3\\lib\\site-packages\\pandas\\io\\parsers.py\u001b[0m in \u001b[0;36m_make_engine\u001b[1;34m(self, engine)\u001b[0m\n\u001b[0;32m   1112\u001b[0m     \u001b[1;32mdef\u001b[0m \u001b[0m_make_engine\u001b[0m\u001b[1;33m(\u001b[0m\u001b[0mself\u001b[0m\u001b[1;33m,\u001b[0m \u001b[0mengine\u001b[0m\u001b[1;33m=\u001b[0m\u001b[1;34m\"c\"\u001b[0m\u001b[1;33m)\u001b[0m\u001b[1;33m:\u001b[0m\u001b[1;33m\u001b[0m\u001b[1;33m\u001b[0m\u001b[0m\n\u001b[0;32m   1113\u001b[0m         \u001b[1;32mif\u001b[0m \u001b[0mengine\u001b[0m \u001b[1;33m==\u001b[0m \u001b[1;34m\"c\"\u001b[0m\u001b[1;33m:\u001b[0m\u001b[1;33m\u001b[0m\u001b[1;33m\u001b[0m\u001b[0m\n\u001b[1;32m-> 1114\u001b[1;33m             \u001b[0mself\u001b[0m\u001b[1;33m.\u001b[0m\u001b[0m_engine\u001b[0m \u001b[1;33m=\u001b[0m \u001b[0mCParserWrapper\u001b[0m\u001b[1;33m(\u001b[0m\u001b[0mself\u001b[0m\u001b[1;33m.\u001b[0m\u001b[0mf\u001b[0m\u001b[1;33m,\u001b[0m \u001b[1;33m**\u001b[0m\u001b[0mself\u001b[0m\u001b[1;33m.\u001b[0m\u001b[0moptions\u001b[0m\u001b[1;33m)\u001b[0m\u001b[1;33m\u001b[0m\u001b[1;33m\u001b[0m\u001b[0m\n\u001b[0m\u001b[0;32m   1115\u001b[0m         \u001b[1;32melse\u001b[0m\u001b[1;33m:\u001b[0m\u001b[1;33m\u001b[0m\u001b[1;33m\u001b[0m\u001b[0m\n\u001b[0;32m   1116\u001b[0m             \u001b[1;32mif\u001b[0m \u001b[0mengine\u001b[0m \u001b[1;33m==\u001b[0m \u001b[1;34m\"python\"\u001b[0m\u001b[1;33m:\u001b[0m\u001b[1;33m\u001b[0m\u001b[1;33m\u001b[0m\u001b[0m\n",
      "\u001b[1;32mC:\\ProgramData\\Anaconda3\\lib\\site-packages\\pandas\\io\\parsers.py\u001b[0m in \u001b[0;36m__init__\u001b[1;34m(self, src, **kwds)\u001b[0m\n\u001b[0;32m   1889\u001b[0m         \u001b[0mkwds\u001b[0m\u001b[1;33m[\u001b[0m\u001b[1;34m\"usecols\"\u001b[0m\u001b[1;33m]\u001b[0m \u001b[1;33m=\u001b[0m \u001b[0mself\u001b[0m\u001b[1;33m.\u001b[0m\u001b[0musecols\u001b[0m\u001b[1;33m\u001b[0m\u001b[1;33m\u001b[0m\u001b[0m\n\u001b[0;32m   1890\u001b[0m \u001b[1;33m\u001b[0m\u001b[0m\n\u001b[1;32m-> 1891\u001b[1;33m         \u001b[0mself\u001b[0m\u001b[1;33m.\u001b[0m\u001b[0m_reader\u001b[0m \u001b[1;33m=\u001b[0m \u001b[0mparsers\u001b[0m\u001b[1;33m.\u001b[0m\u001b[0mTextReader\u001b[0m\u001b[1;33m(\u001b[0m\u001b[0msrc\u001b[0m\u001b[1;33m,\u001b[0m \u001b[1;33m**\u001b[0m\u001b[0mkwds\u001b[0m\u001b[1;33m)\u001b[0m\u001b[1;33m\u001b[0m\u001b[1;33m\u001b[0m\u001b[0m\n\u001b[0m\u001b[0;32m   1892\u001b[0m         \u001b[0mself\u001b[0m\u001b[1;33m.\u001b[0m\u001b[0munnamed_cols\u001b[0m \u001b[1;33m=\u001b[0m \u001b[0mself\u001b[0m\u001b[1;33m.\u001b[0m\u001b[0m_reader\u001b[0m\u001b[1;33m.\u001b[0m\u001b[0munnamed_cols\u001b[0m\u001b[1;33m\u001b[0m\u001b[1;33m\u001b[0m\u001b[0m\n\u001b[0;32m   1893\u001b[0m \u001b[1;33m\u001b[0m\u001b[0m\n",
      "\u001b[1;32mpandas\\_libs\\parsers.pyx\u001b[0m in \u001b[0;36mpandas._libs.parsers.TextReader.__cinit__\u001b[1;34m()\u001b[0m\n",
      "\u001b[1;32mpandas\\_libs\\parsers.pyx\u001b[0m in \u001b[0;36mpandas._libs.parsers.TextReader._setup_parser_source\u001b[1;34m()\u001b[0m\n",
      "\u001b[1;31mFileNotFoundError\u001b[0m: [Errno 2] File app.csv does not exist: 'app.csv'"
     ]
    }
   ],
   "source": [
    "df = pd.read_csv(\"app.csv\")\n"
   ]
  },
  {
   "cell_type": "code",
   "execution_count": null,
   "metadata": {},
   "outputs": [],
   "source": [
    "df['size'] = df['size'].astype(str)  # Convert all values to string\n",
    "df['size'] = df['size'].apply(lambda x: None if 'Varies' in x else x)  # Replace 'Varies with device'\n",
    "df['size'] = df['size'].str.replace('M', '', regex=False)  # Remove 'M'\n",
    "df['size'] = pd.to_numeric(df['size'], errors='coerce')  # Convert to float safely\n"
   ]
  },
  {
   "cell_type": "code",
   "execution_count": null,
   "metadata": {},
   "outputs": [],
   "source": [
    "df['sentiment_subjectivity'] = pd.to_numeric(df['sentiment_subjectivity'], errors='coerce')\n"
   ]
  },
  {
   "cell_type": "code",
   "execution_count": null,
   "metadata": {},
   "outputs": [],
   "source": [
    "df['sentiment_subjectivity'] = 0.7  # Assume positive sentiment for all\n"
   ]
  },
  {
   "cell_type": "code",
   "execution_count": null,
   "metadata": {},
   "outputs": [],
   "source": [
    "# Step 4: Add a Dummy Subjectivity Score and Convert to Numeric\n",
    "df['sentiment_subjectivity'] = 0.7\n",
    "df['sentiment_subjectivity'] = pd.to_numeric(df['sentiment_subjectivity'], errors='coerce')\n",
    "\n",
    "# Step 5: Filtering the Data\n",
    "allowed_categories = ['Game', 'Beauty', 'business', 'commics', 'commication',\n",
    "                      'Dating', 'Entertainment', 'social', 'event']\n",
    "\n",
    "df_filtered = df[\n",
    "    (df['rating'] > 3.5) &\n",
    "    (df['genre'].str.lower().isin([cat.lower() for cat in allowed_categories])) &\n",
    "    (df['reviews'] > 500) &\n",
    "    (~df['app_name'].str.contains(\"s\", case=False, na=False)) &\n",
    "    (df['sentiment_subjectivity'] > 0.5) &\n",
    "    (df['installs'] > 50000)\n",
    "].copy()\n"
   ]
  },
  {
   "cell_type": "code",
   "execution_count": null,
   "metadata": {},
   "outputs": [],
   "source": [
    "print(df['sentiment_subjectivity'].dtype)\n"
   ]
  },
  {
   "cell_type": "code",
   "execution_count": null,
   "metadata": {},
   "outputs": [],
   "source": [
    "df['sentiment_subjectivity'] = pd.to_numeric(df['sentiment_subjectivity'], errors='coerce')\n"
   ]
  },
  {
   "cell_type": "code",
   "execution_count": null,
   "metadata": {},
   "outputs": [],
   "source": [
    "print(df['sentiment_subjectivity'].head())\n",
    "print(df['sentiment_subjectivity'].dtype)\n"
   ]
  },
  {
   "cell_type": "code",
   "execution_count": null,
   "metadata": {},
   "outputs": [],
   "source": [
    "allowed_categories = ['Game', 'Beauty', 'business', 'commics', 'commication',\n",
    "                      'Dating', 'Entertainment', 'social', 'event']\n",
    "\n",
    "df_filtered = df[\n",
    "    (df['rating'] > 3.5) &\n",
    "    (df['genre'].str.lower().isin([cat.lower() for cat in allowed_categories])) &\n",
    "    (df['reviews'] > 500) &\n",
    "    (~df['app_name'].str.contains(\"s\", case=False, na=False)) &\n",
    "    (df['sentiment_subjectivity'] > 0.5) &\n",
    "    (df['installs'] > 50000)\n",
    "].copy()\n"
   ]
  },
  {
   "cell_type": "code",
   "execution_count": null,
   "metadata": {},
   "outputs": [],
   "source": [
    "print(df.columns[df.columns.duplicated()])\n"
   ]
  },
  {
   "cell_type": "code",
   "execution_count": null,
   "metadata": {},
   "outputs": [],
   "source": [
    "import pandas as pd\n",
    "\n",
    "# Load CSV\n",
    "df = pd.read_csv('app.csv')\n",
    "\n",
    "# Clean size column\n",
    "df['size'] = df['size'].replace('Varies with device', pd.NA)\n",
    "df['size'] = df['size'].str.replace('M', '', regex=False)\n",
    "df['size'] = pd.to_numeric(df['size'], errors='coerce')\n",
    "\n",
    "# Clean installs column\n",
    "df['installs'] = df['installs'].str.replace(',', '', regex=False).str.replace('+', '', regex=False)\n",
    "df['installs'] = pd.to_numeric(df['installs'], errors='coerce')\n",
    "\n",
    "# Make sure all lowercase for comparison consistency\n",
    "df.columns = df.columns.str.lower()\n"
   ]
  },
  {
   "cell_type": "code",
   "execution_count": null,
   "metadata": {},
   "outputs": [],
   "source": [
    "# Add a dummy subjectivity column if not present\n",
    "if 'sentiment_subjectivity' not in df.columns:\n",
    "    df['sentiment_subjectivity'] = 0.7\n",
    "\n",
    "# Convert to numeric (even if already float)\n",
    "df['sentiment_subjectivity'] = pd.to_numeric(df['sentiment_subjectivity'], errors='coerce')\n"
   ]
  },
  {
   "cell_type": "code",
   "execution_count": null,
   "metadata": {},
   "outputs": [],
   "source": [
    "allowed_categories = ['Game', 'Beauty', 'business', 'commics', 'commication',\n",
    "                      'Dating', 'Entertainment', 'social', 'event']\n",
    "\n",
    "df_filtered = df[\n",
    "    (df['rating'] > 3.5) &\n",
    "    (df['genre'].str.lower().isin([cat.lower() for cat in allowed_categories])) &\n",
    "    (df['reviews'] > 500) &\n",
    "    (~df['app_name'].str.contains(\"s\", case=False, na=False)) &\n",
    "    (df['sentiment_subjectivity'] > 0.5) &\n",
    "    (df['installs'] > 50000)\n",
    "].copy()\n"
   ]
  },
  {
   "cell_type": "code",
   "execution_count": null,
   "metadata": {},
   "outputs": [],
   "source": [
    "# Remove all rows with missing or non-numeric subjectivity values\n",
    "df['sentiment_subjectivity'] = pd.to_numeric(df['sentiment_subjectivity'], errors='coerce')\n",
    "\n",
    "# Drop rows where it's still NaN after conversion\n",
    "df = df.dropna(subset=['sentiment_subjectivity'])\n",
    "\n",
    "# Confirm conversion worked\n",
    "print(df['sentiment_subjectivity'].dtype)\n",
    "print(df['sentiment_subjectivity'].head())\n"
   ]
  },
  {
   "cell_type": "code",
   "execution_count": null,
   "metadata": {},
   "outputs": [],
   "source": [
    "allowed_categories = ['Game', 'Beauty', 'business', 'commics', 'commication',\n",
    "                      'Dating', 'Entertainment', 'social', 'event']\n",
    "\n",
    "df_filtered = df[\n",
    "    (df['rating'] > 3.5) &\n",
    "    (df['genre'].str.lower().isin([cat.lower() for cat in allowed_categories])) &\n",
    "    (df['reviews'] > 500) &\n",
    "    (~df['app_name'].str.contains(\"s\", case=False, na=False)) &\n",
    "    (df['sentiment_subjectivity'] > 0.5) &\n",
    "    (df['installs'] > 50000)\n",
    "].copy()\n"
   ]
  },
  {
   "cell_type": "code",
   "execution_count": null,
   "metadata": {},
   "outputs": [],
   "source": [
    "print(df['sentiment_subjectivity'].apply(type).value_counts())\n"
   ]
  },
  {
   "cell_type": "code",
   "execution_count": null,
   "metadata": {},
   "outputs": [],
   "source": [
    "allowed_categories = ['Game', 'Beauty', 'business', 'commics', 'commication',\n",
    "                      'Dating', 'Entertainment', 'social', 'event']\n",
    "\n",
    "df_filtered = df[\n",
    "    (df['rating'] > 3.5) &\n",
    "    (df['genre'].str.lower().isin([cat.lower() for cat in allowed_categories])) &\n",
    "    (df['reviews'] > 500) &\n",
    "    (~df['app_name'].str.contains(\"s\", case=False, na=False)) &\n",
    "    (df['sentiment_subjectivity'] > 0.5) &\n",
    "    (df['installs'] > 50000)\n",
    "].copy()\n",
    "\n",
    "print(df_filtered.shape)\n",
    "df_filtered.head()\n"
   ]
  },
  {
   "cell_type": "code",
   "execution_count": null,
   "metadata": {},
   "outputs": [],
   "source": [
    "# Step 1: Convert to numeric\n",
    "df['sentiment_subjectivity'] = pd.to_numeric(df['sentiment_subjectivity'], errors='coerce')\n",
    "\n",
    "# Step 2: Confirm all are floats\n",
    "print(df['sentiment_subjectivity'].apply(type).value_counts())\n"
   ]
  },
  {
   "cell_type": "code",
   "execution_count": null,
   "metadata": {},
   "outputs": [],
   "source": [
    "df['rating'] = pd.to_numeric(df['rating'], errors='coerce')\n",
    "df['reviews'] = pd.to_numeric(df['reviews'], errors='coerce')\n",
    "df['installs'] = pd.to_numeric(df['installs'], errors='coerce')\n",
    "df['sentiment_subjectivity'] = pd.to_numeric(df['sentiment_subjectivity'], errors='coerce')\n"
   ]
  },
  {
   "cell_type": "code",
   "execution_count": null,
   "metadata": {},
   "outputs": [],
   "source": [
    "df = df.dropna(subset=['rating', 'reviews', 'installs', 'sentiment_subjectivity'])\n"
   ]
  },
  {
   "cell_type": "code",
   "execution_count": null,
   "metadata": {},
   "outputs": [],
   "source": [
    "allowed_categories = ['Game', 'Beauty', 'business', 'commics', 'commication',\n",
    "                      'Dating', 'Entertainment', 'social', 'event']\n",
    "\n",
    "df_filtered = df[\n",
    "    (df['rating'] > 3.5) &\n",
    "    (df['genre'].str.lower().isin([cat.lower() for cat in allowed_categories])) &\n",
    "    (df['reviews'] > 500) &\n",
    "    (~df['app_name'].str.contains(\"s\", case=False, na=False)) &\n",
    "    (df['sentiment_subjectivity'] > 0.5) &\n",
    "    (df['installs'] > 50000)\n",
    "].copy()\n"
   ]
  },
  {
   "cell_type": "code",
   "execution_count": null,
   "metadata": {},
   "outputs": [],
   "source": [
    "print(\"Filtered Data:\", df_filtered.shape)\n",
    "df_filtered.head()\n"
   ]
  },
  {
   "cell_type": "code",
   "execution_count": null,
   "metadata": {},
   "outputs": [],
   "source": [
    "print(\"Total apps:\", len(df))\n",
    "\n",
    "step1 = df[df['rating'] > 3.5]\n",
    "print(\"Rating > 3.5:\", len(step1))\n",
    "\n",
    "step2 = step1[step1['genre'].str.lower().isin([cat.lower() for cat in allowed_categories])]\n",
    "print(\"Allowed Categories:\", len(step2))\n",
    "\n",
    "step3 = step2[step2['reviews'] > 500]\n",
    "print(\"Reviews > 500:\", len(step3))\n",
    "\n",
    "step4 = step3[~step3['app_name'].str.contains(\"s\", case=False, na=False)]\n",
    "print(\"App name does not contain 's':\", len(step4))\n",
    "\n",
    "step5 = step4[step4['sentiment_subjectivity'] > 0.5]\n",
    "print(\"Subjectivity > 0.5:\", len(step5))\n",
    "\n",
    "step6 = step5[step5['installs'] > 50000]\n",
    "print(\"Installs > 50K:\", len(step6))\n"
   ]
  },
  {
   "cell_type": "code",
   "execution_count": null,
   "metadata": {},
   "outputs": [],
   "source": [
    "import pandas as pd\n",
    "\n",
    "# Load the file\n",
    "df = pd.read_csv(\"app.csv\")\n",
    "\n",
    "# Clean 'size' column\n",
    "df['size'] = df['size'].replace('Varies with device', pd.NA)\n",
    "df['size'] = df['size'].str.replace('M', '', regex=False)\n",
    "df['size'] = pd.to_numeric(df['size'], errors='coerce')\n",
    "\n",
    "# Clean 'installs' column\n",
    "df['installs'] = df['installs'].str.replace(r'[+,]', '', regex=True)\n",
    "df['installs'] = pd.to_numeric(df['installs'], errors='coerce')\n",
    "\n",
    "# Ensure numeric types\n",
    "df['rating'] = pd.to_numeric(df['rating'], errors='coerce')\n",
    "df['reviews'] = pd.to_numeric(df['reviews'], errors='coerce')\n",
    "df['sentiment_subjectivity'] = pd.to_numeric(df['sentiment_subjectivity'], errors='coerce')\n",
    "\n",
    "# Drop only rows with missing values in **these specific columns**\n",
    "df = df.dropna(subset=['rating', 'reviews', 'installs', 'sentiment_subjectivity', 'size'])\n"
   ]
  },
  {
   "cell_type": "code",
   "execution_count": null,
   "metadata": {},
   "outputs": [],
   "source": []
  }
 ],
 "metadata": {
  "kernelspec": {
   "display_name": "Python 3",
   "language": "python",
   "name": "python3"
  },
  "language_info": {
   "codemirror_mode": {
    "name": "ipython",
    "version": 3
   },
   "file_extension": ".py",
   "mimetype": "text/x-python",
   "name": "python",
   "nbconvert_exporter": "python",
   "pygments_lexer": "ipython3",
   "version": "3.7.6"
  }
 },
 "nbformat": 4,
 "nbformat_minor": 4
}
