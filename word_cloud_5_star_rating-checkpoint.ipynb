{
 "cells": [
  {
   "cell_type": "code",
   "execution_count": 1,
   "metadata": {},
   "outputs": [],
   "source": [
    "import pandas as pd\n",
    "import re\n",
    "from wordcloud import WordCloud\n",
    "import matplotlib.pyplot as plt\n"
   ]
  },
  {
   "cell_type": "code",
   "execution_count": 2,
   "metadata": {},
   "outputs": [
    {
     "data": {
      "text/plain": [
       "'C:\\\\Users\\\\lenovo'"
      ]
     },
     "execution_count": 2,
     "metadata": {},
     "output_type": "execute_result"
    }
   ],
   "source": [
    "import os\n",
    "os.getcwd()"
   ]
  },
  {
   "cell_type": "code",
   "execution_count": 3,
   "metadata": {},
   "outputs": [
    {
     "data": {
      "text/html": [
       "<div>\n",
       "<style scoped>\n",
       "    .dataframe tbody tr th:only-of-type {\n",
       "        vertical-align: middle;\n",
       "    }\n",
       "\n",
       "    .dataframe tbody tr th {\n",
       "        vertical-align: top;\n",
       "    }\n",
       "\n",
       "    .dataframe thead th {\n",
       "        text-align: right;\n",
       "    }\n",
       "</style>\n",
       "<table border=\"1\" class=\"dataframe\">\n",
       "  <thead>\n",
       "    <tr style=\"text-align: right;\">\n",
       "      <th></th>\n",
       "      <th>App Name</th>\n",
       "      <th>Category</th>\n",
       "      <th>Rating</th>\n",
       "      <th>Review Text</th>\n",
       "    </tr>\n",
       "  </thead>\n",
       "  <tbody>\n",
       "    <tr>\n",
       "      <th>0</th>\n",
       "      <td>WorkoutPro</td>\n",
       "      <td>Health &amp; Fitness</td>\n",
       "      <td>5</td>\n",
       "      <td>Very helpful in maintaining fitness goals. Int...</td>\n",
       "    </tr>\n",
       "    <tr>\n",
       "      <th>1</th>\n",
       "      <td>RunMaster</td>\n",
       "      <td>Health &amp; Fitness</td>\n",
       "      <td>5</td>\n",
       "      <td>My favorite fitness app. The reminders are sup...</td>\n",
       "    </tr>\n",
       "    <tr>\n",
       "      <th>2</th>\n",
       "      <td>FitTrack</td>\n",
       "      <td>Health &amp; Fitness</td>\n",
       "      <td>5</td>\n",
       "      <td>I feel stronger and more energetic thanks to t...</td>\n",
       "    </tr>\n",
       "    <tr>\n",
       "      <th>3</th>\n",
       "      <td>FitTrack</td>\n",
       "      <td>Health &amp; Fitness</td>\n",
       "      <td>5</td>\n",
       "      <td>It’s my go-to app every morning.</td>\n",
       "    </tr>\n",
       "    <tr>\n",
       "      <th>4</th>\n",
       "      <td>WorkoutPro</td>\n",
       "      <td>Health &amp; Fitness</td>\n",
       "      <td>5</td>\n",
       "      <td>The best health app I’ve used so far!</td>\n",
       "    </tr>\n",
       "  </tbody>\n",
       "</table>\n",
       "</div>"
      ],
      "text/plain": [
       "     App Name          Category  Rating  \\\n",
       "0  WorkoutPro  Health & Fitness       5   \n",
       "1   RunMaster  Health & Fitness       5   \n",
       "2    FitTrack  Health & Fitness       5   \n",
       "3    FitTrack  Health & Fitness       5   \n",
       "4  WorkoutPro  Health & Fitness       5   \n",
       "\n",
       "                                         Review Text  \n",
       "0  Very helpful in maintaining fitness goals. Int...  \n",
       "1  My favorite fitness app. The reminders are sup...  \n",
       "2  I feel stronger and more energetic thanks to t...  \n",
       "3                   It’s my go-to app every morning.  \n",
       "4              The best health app I’ve used so far!  "
      ]
     },
     "execution_count": 3,
     "metadata": {},
     "output_type": "execute_result"
    }
   ],
   "source": [
    "df = pd.read_csv(\"health_fitness_reviews_50.csv\")\n",
    "df.head()\n"
   ]
  },
  {
   "cell_type": "code",
   "execution_count": 4,
   "metadata": {},
   "outputs": [],
   "source": [
    "filtered_df = df[(df['Category'] == \"Health & Fitness\") & (df['Rating'] == 5)]\n"
   ]
  },
  {
   "cell_type": "code",
   "execution_count": 5,
   "metadata": {},
   "outputs": [],
   "source": [
    "# Common stopwords\n",
    "custom_stopwords = set(\"\"\"\n",
    "a about above after again against all am an and any are as at be because been before being below\n",
    "between both but by can cannot could did do does doing down during each few for from further had\n",
    "has have having he her here hers herself him himself his how i if in into is it its itself just me\n",
    "more most my myself no nor not of off on once only or other our ours ourselves out over own same\n",
    "she should so some such than that the their theirs them themselves then there these they this those\n",
    "through to too under until up very was we were what when where which while who whom why with you\n",
    "your yours yourself yourselves\n",
    "\"\"\".split())\n",
    "\n",
    "# App names from the dataset\n",
    "app_names = set(df['App Name'].str.lower())\n"
   ]
  },
  {
   "cell_type": "code",
   "execution_count": 6,
   "metadata": {},
   "outputs": [],
   "source": [
    "# Combine all reviews into one string\n",
    "text = \" \".join(filtered_df[\"Review Text\"].tolist())\n",
    "\n",
    "# Clean the text: remove punctuation, convert to lowercase\n",
    "text_clean = re.sub(r'[^a-zA-Z\\s]', '', text).lower()\n",
    "\n",
    "# Remove stopwords and app names\n",
    "words = [word for word in text_clean.split() if word not in custom_stopwords and word not in app_names]\n",
    "\n",
    "# Join the final list back to text\n",
    "final_text = \" \".join(words)\n"
   ]
  },
  {
   "cell_type": "code",
   "execution_count": null,
   "metadata": {},
   "outputs": [],
   "source": []
  }
 ],
 "metadata": {
  "kernelspec": {
   "display_name": "Python 3",
   "language": "python",
   "name": "python3"
  },
  "language_info": {
   "codemirror_mode": {
    "name": "ipython",
    "version": 3
   },
   "file_extension": ".py",
   "mimetype": "text/x-python",
   "name": "python",
   "nbconvert_exporter": "python",
   "pygments_lexer": "ipython3",
   "version": "3.7.6"
  }
 },
 "nbformat": 4,
 "nbformat_minor": 4
}
